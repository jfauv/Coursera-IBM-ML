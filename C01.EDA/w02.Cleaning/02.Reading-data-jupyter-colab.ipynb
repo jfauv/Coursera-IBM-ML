{
  "cells": [
    {
      "cell_type": "markdown",
      "metadata": {
        "id": "67E456_nBo6I"
      },
      "source": [
        "# Machine Learning Foundation\n",
        "\n",
        "## Reading Data Lab\n"
      ]
    },
    {
      "cell_type": "code",
      "execution_count": 1,
      "metadata": {
        "id": "jMKiPxeFBo6L"
      },
      "outputs": [],
      "source": [
        "import sqlite3 as sq3\n",
        "import pandas.io.sql as pds\n",
        "import pandas as pd"
      ]
    },
    {
      "cell_type": "code",
      "execution_count": 5,
      "metadata": {
        "colab": {
          "base_uri": "https://localhost:8080/"
        },
        "id": "_qaTObCrBo6M",
        "outputId": "8c048e76-f3de-44f5-d3d3-e9574e1b3ebc"
      },
      "outputs": [
        {
          "output_type": "stream",
          "name": "stdout",
          "text": [
            "--2025-01-28 17:52:05--  https://cf-courses-data.s3.us.cloud-object-storage.appdomain.cloud/IBM-ML0232EN-SkillsNetwork/asset/baseball.db\n",
            "Resolving cf-courses-data.s3.us.cloud-object-storage.appdomain.cloud (cf-courses-data.s3.us.cloud-object-storage.appdomain.cloud)... 198.23.119.245\n",
            "Connecting to cf-courses-data.s3.us.cloud-object-storage.appdomain.cloud (cf-courses-data.s3.us.cloud-object-storage.appdomain.cloud)|198.23.119.245|:443... connected.\n",
            "HTTP request sent, awaiting response... 200 OK\n",
            "Length: 7626752 (7.3M) [binary/octet-stream]\n",
            "Saving to: ‘data/baseball.db’\n",
            "\n",
            "baseball.db         100%[===================>]   7.27M  42.9MB/s    in 0.2s    \n",
            "\n",
            "2025-01-28 17:52:06 (42.9 MB/s) - ‘data/baseball.db’ saved [7626752/7626752]\n",
            "\n"
          ]
        }
      ],
      "source": [
        "# Download the database\n",
        "!wget -P data https://cf-courses-data.s3.us.cloud-object-storage.appdomain.cloud/IBM-ML0232EN-SkillsNetwork/asset/baseball.db"
      ]
    },
    {
      "cell_type": "code",
      "execution_count": 6,
      "metadata": {
        "colab": {
          "base_uri": "https://localhost:8080/"
        },
        "id": "NtX-ysFmBo6N",
        "outputId": "5c57c549-f68c-4c61-f6ed-e7c544e583b8"
      },
      "outputs": [
        {
          "output_type": "stream",
          "name": "stdout",
          "text": [
            "      index   playerID  yearID  gameNum        gameID teamID lgID   GP  \\\n",
            "0         0  gomezle01    1933        0  ALS193307060    NYA   AL  1.0   \n",
            "1         1  ferreri01    1933        0  ALS193307060    BOS   AL  1.0   \n",
            "2         2  gehrilo01    1933        0  ALS193307060    NYA   AL  1.0   \n",
            "3         3  gehrich01    1933        0  ALS193307060    DET   AL  1.0   \n",
            "4         4  dykesji01    1933        0  ALS193307060    CHA   AL  1.0   \n",
            "...     ...        ...     ...      ...           ...    ...  ...  ...   \n",
            "5143   5143  seageco01    2016        0  ALS201607120    LAN   NL  1.0   \n",
            "5144   5144  strasst01    2016        0  ALS201607120    WAS   NL  0.0   \n",
            "5145   5145  syndeno01    2016        0  ALS201607120    NYN   NL  0.0   \n",
            "5146   5146  teherju01    2016        0  ALS201607120    ATL   NL  1.0   \n",
            "5147   5147  zobribe01    2016        0  ALS201607120    CHN   NL  1.0   \n",
            "\n",
            "      startingPos  \n",
            "0             1.0  \n",
            "1             2.0  \n",
            "2             3.0  \n",
            "3             4.0  \n",
            "4             5.0  \n",
            "...           ...  \n",
            "5143          NaN  \n",
            "5144          NaN  \n",
            "5145          NaN  \n",
            "5146          NaN  \n",
            "5147          4.0  \n",
            "\n",
            "[5148 rows x 9 columns]\n"
          ]
        }
      ],
      "source": [
        "# Create a variable, `path`, containing the path to the `baseball.db` contained in `./`\n",
        "path = 'baseball.db'\n",
        "\n",
        "# Create a connection, `con`, that is connected to database at `path`\n",
        "con = sq3.Connection(path)\n",
        "\n",
        "# Create a variable, `query`, containing a SQL query which reads in all data from the `` table\n",
        "\n",
        "query = \"\"\"\n",
        "SELECT *\n",
        "    FROM allstarfull\n",
        "    ;\n",
        "\"\"\"\n",
        "\n",
        "allstar_observations = pd.read_sql(query, con)\n",
        "\n",
        "print(allstar_observations)"
      ]
    },
    {
      "cell_type": "code",
      "source": [
        "# Create a variable, all_tables, which reads in all data from the table sqlite_master\n",
        "all_tables = pd.read_sql('SELECT * FROM sqlite_master', con)\n",
        "print(all_tables)"
      ],
      "metadata": {
        "colab": {
          "base_uri": "https://localhost:8080/"
        },
        "id": "R0BJ-QwrCM5m",
        "outputId": "3c79a99a-16b9-46ce-8975-b0af17a82604"
      },
      "execution_count": 7,
      "outputs": [
        {
          "output_type": "stream",
          "name": "stdout",
          "text": [
            "    type                  name     tbl_name  rootpage  \\\n",
            "0  table           allstarfull  allstarfull         2   \n",
            "1  index  ix_allstarfull_index  allstarfull         3   \n",
            "2  table               schools      schools        26   \n",
            "3  index      ix_schools_index      schools        31   \n",
            "4  table               batting      batting        99   \n",
            "5  index      ix_batting_index      batting       100   \n",
            "\n",
            "                                                 sql  \n",
            "0  CREATE TABLE \"allstarfull\" (\\n\"index\" INTEGER,...  \n",
            "1  CREATE INDEX \"ix_allstarfull_index\"ON \"allstar...  \n",
            "2  CREATE TABLE \"schools\" (\\n\"index\" INTEGER,\\n  ...  \n",
            "3  CREATE INDEX \"ix_schools_index\"ON \"schools\" (\"...  \n",
            "4  CREATE TABLE \"batting\" (\\n\"index\" INTEGER,\\n  ...  \n",
            "5  CREATE INDEX \"ix_batting_index\"ON \"batting\" (\"...  \n"
          ]
        }
      ]
    },
    {
      "cell_type": "code",
      "source": [
        "# Pretend that you were interesting in creating a new baseball hall of fame. Join and analyze the tables to evaluate the top 3 all time best baseball players\n",
        "best_query = \"\"\"\n",
        "SELECT playerID, sum(GP) AS num_games_played, AVG(startingPos) AS avg_starting_position\n",
        "    FROM allstarfull\n",
        "    GROUP BY playerID\n",
        "    ORDER BY num_games_played DESC, avg_starting_position ASC\n",
        "    LIMIT 3\n",
        "\"\"\"\n",
        "best = pd.read_sql(best_query, con)\n",
        "print(best.head())"
      ],
      "metadata": {
        "colab": {
          "base_uri": "https://localhost:8080/"
        },
        "id": "tH3T-PU9CnT-",
        "outputId": "487abfc7-b3a5-494d-bd53-ab2fe4963967"
      },
      "execution_count": 8,
      "outputs": [
        {
          "output_type": "stream",
          "name": "stdout",
          "text": [
            "    playerID  num_games_played  avg_starting_position\n",
            "0  musiast01              24.0               6.357143\n",
            "1   mayswi01              24.0               8.000000\n",
            "2  aaronha01              24.0               8.470588\n"
          ]
        }
      ]
    }
  ],
  "metadata": {
    "kernelspec": {
      "display_name": "Python",
      "language": "python",
      "name": "conda-env-python-py"
    },
    "language_info": {
      "name": ""
    },
    "colab": {
      "provenance": []
    }
  },
  "nbformat": 4,
  "nbformat_minor": 0
}